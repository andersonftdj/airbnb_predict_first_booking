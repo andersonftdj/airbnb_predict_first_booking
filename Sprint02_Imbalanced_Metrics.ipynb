{
 "cells": [
  {
   "cell_type": "markdown",
   "id": "f1eec6d0",
   "metadata": {
    "heading_collapsed": true
   },
   "source": [
    "# 0.0. Entender o Problema"
   ]
  },
  {
   "cell_type": "markdown",
   "id": "7911cf44",
   "metadata": {
    "hidden": true
   },
   "source": [
    "-- Objetivo do Problema: \n",
    "    -- 1.0. Previsão do primeiro destino que um novo usuário irá escolher.\n",
    "    \n",
    "    -- Porque?\n",
    "        -- Qual o tipo de modelo de negócio do Airbnb?\n",
    "            -- MarketPlace (Conecta pessoas que oferecem acomodação com pessias que estão procurando acomodação.)\n",
    "            -- Oferta (Pessoas oferecendo acomodação)\n",
    "                -- Métricas\n",
    "                -- Tamanho do Portfólio\n",
    "                -- Diversidade/Densidade de portfólio\n",
    "                -- Preco Medio\n",
    "                \n",
    "            -- Demanda (Pessoas procurando acomodação)\n",
    "                -- Número de Usuários\n",
    "                -- LTV (Lifetime Value)\n",
    "                -- CAC (Client Acquisition Cost)\n",
    "                \n",
    "                Gross Revenue = (Fee * Numero Clientes) - CAC\n",
    "                \n",
    "    \n",
    "-- Proposta da Solução\n",
    "\n",
    "    --- Modelo de Previsão do primeiro destino de um novo suário\n",
    "    --- 1.0. Predicoes salvar em uma tabela em um banco de dados\n",
    "    --- 2.0. API\n",
    "            --- Input: usuario e suas caracteristicas\n",
    "            --- output: usuario e suas caracteristicas com a **predição do destino**\n",
    "            \n",
    "    --- 16 ciclos"
   ]
  },
  {
   "cell_type": "markdown",
   "id": "4c0b6799",
   "metadata": {
    "ExecuteTime": {
     "end_time": "2022-10-11T21:50:49.747372Z",
     "start_time": "2022-10-11T21:50:49.728414Z"
    },
    "heading_collapsed": true
   },
   "source": [
    "# <font color='red'> Ciclo01: End to End</font>"
   ]
  },
  {
   "cell_type": "markdown",
   "id": "4fe86c31",
   "metadata": {},
   "source": [
    "# 0.0. Imports"
   ]
  },
  {
   "cell_type": "code",
   "execution_count": 1,
   "id": "50bee424",
   "metadata": {
    "ExecuteTime": {
     "end_time": "2022-10-14T11:07:55.384173Z",
     "start_time": "2022-10-14T11:07:36.671843Z"
    }
   },
   "outputs": [],
   "source": [
    "import pandas            as pd\n",
    "import warnings\n",
    "import matplotlib\n",
    "import seaborn           as sns\n",
    "import matplotlib.pyplot as plt \n",
    "\n",
    "\n",
    "from sklearn.model_selection import train_test_split\n",
    "from IPython.core.display  import HTML\n",
    "from scikitplot import metrics as  mt\n",
    "from sklearn import preprocessing\n",
    "from sklearn import metrics\n",
    "from keras import models as ml\n",
    "from keras import layers\n"
   ]
  },
  {
   "cell_type": "markdown",
   "id": "3c21147d",
   "metadata": {
    "ExecuteTime": {
     "end_time": "2022-10-11T21:53:35.225464Z",
     "start_time": "2022-10-11T21:53:35.216678Z"
    },
    "heading_collapsed": true
   },
   "source": [
    "## 0.1. Funções Auxiliares"
   ]
  },
  {
   "cell_type": "code",
   "execution_count": 2,
   "id": "0aeb5d50",
   "metadata": {
    "ExecuteTime": {
     "end_time": "2022-10-14T11:07:55.463921Z",
     "start_time": "2022-10-14T11:07:55.389125Z"
    },
    "hidden": true
   },
   "outputs": [
    {
     "data": {
      "text/html": [
       "<style>.container { width:100% !important; }</style>"
      ],
      "text/plain": [
       "<IPython.core.display.HTML object>"
      ]
     },
     "metadata": {},
     "output_type": "display_data"
    }
   ],
   "source": [
    "def jupyter_settings():\n",
    "    \"\"\" Optimize general settings, standardize plot sizes, etc. \"\"\"\n",
    "    %matplotlib inline\n",
    "    \n",
    "    plt.style.use( 'bmh' )\n",
    "    plt.rcParams['figure.figsize'] = [12, 6]\n",
    "    plt.rcParams['font.size'] = 20\n",
    "    \n",
    "    display( HTML( '<style>.container { width:100% !important; }</style>') )\n",
    "    pd.set_option( 'display.expand_frame_repr', False )\n",
    "    pd.set_option('display.max_columns', 30)\n",
    "    pd.set_option('display.max_rows', 30)\n",
    "    sns.set()\n",
    "    pd.set_option('display.float_format', '{:.2f}'.format)\n",
    "jupyter_settings()\n",
    "\n",
    "\n",
    "\n",
    "warnings.filterwarnings('ignore')"
   ]
  },
  {
   "cell_type": "markdown",
   "id": "eaffb5ef",
   "metadata": {
    "ExecuteTime": {
     "end_time": "2022-10-11T21:53:35.225464Z",
     "start_time": "2022-10-11T21:53:35.216678Z"
    }
   },
   "source": [
    "## 0.2. Carregando Dados"
   ]
  },
  {
   "cell_type": "code",
   "execution_count": 3,
   "id": "5e4523c1",
   "metadata": {
    "ExecuteTime": {
     "end_time": "2022-10-14T11:07:56.369547Z",
     "start_time": "2022-10-14T11:07:55.470902Z"
    }
   },
   "outputs": [
    {
     "data": {
      "text/plain": [
       "(213451, 16)"
      ]
     },
     "execution_count": 3,
     "metadata": {},
     "output_type": "execute_result"
    }
   ],
   "source": [
    "# Granularidade: Usuário\n",
    "df_raw = pd.read_csv('data/train_users_2.csv')\n",
    "df_raw.shape"
   ]
  },
  {
   "cell_type": "code",
   "execution_count": 4,
   "id": "e8a271b6",
   "metadata": {
    "ExecuteTime": {
     "end_time": "2022-10-14T11:07:56.384511Z",
     "start_time": "2022-10-14T11:07:56.375532Z"
    }
   },
   "outputs": [],
   "source": [
    "# # Granularidade: Ação\n",
    "# df_sessions = pd.read_csv('data/sessions.csv')\n",
    "# df_sessions.shape"
   ]
  },
  {
   "cell_type": "markdown",
   "id": "7b652b18",
   "metadata": {
    "heading_collapsed": true
   },
   "source": [
    "# 1.0. Descrição dos Dados"
   ]
  },
  {
   "cell_type": "code",
   "execution_count": 5,
   "id": "8be60038",
   "metadata": {
    "ExecuteTime": {
     "end_time": "2022-10-14T11:07:56.416461Z",
     "start_time": "2022-10-14T11:07:56.389494Z"
    },
    "hidden": true
   },
   "outputs": [],
   "source": [
    "df1 = df_raw.copy()"
   ]
  },
  {
   "cell_type": "code",
   "execution_count": 6,
   "id": "08e542c7",
   "metadata": {
    "ExecuteTime": {
     "end_time": "2022-10-14T11:07:56.463634Z",
     "start_time": "2022-10-14T11:07:56.420415Z"
    },
    "hidden": true
   },
   "outputs": [
    {
     "name": "stdout",
     "output_type": "stream",
     "text": [
      "Número de linhas: 213451 \n",
      "Número de colunas: 16 \n"
     ]
    }
   ],
   "source": [
    "print( f\"Número de linhas: {df1.shape[0]} \")\n",
    "print( f\"Número de colunas: {df1.shape[1]} \")"
   ]
  },
  {
   "cell_type": "markdown",
   "id": "ff9ee1e6",
   "metadata": {
    "ExecuteTime": {
     "end_time": "2022-10-11T22:04:24.145641Z",
     "start_time": "2022-10-11T22:04:24.138600Z"
    },
    "heading_collapsed": true,
    "hidden": true
   },
   "source": [
    "## 1.1. Tipo de Dados"
   ]
  },
  {
   "cell_type": "code",
   "execution_count": 7,
   "id": "962a45de",
   "metadata": {
    "ExecuteTime": {
     "end_time": "2022-10-14T11:07:56.494588Z",
     "start_time": "2022-10-14T11:07:56.467660Z"
    },
    "hidden": true
   },
   "outputs": [
    {
     "data": {
      "text/plain": [
       "id                          object\n",
       "date_account_created        object\n",
       "timestamp_first_active       int64\n",
       "date_first_booking          object\n",
       "gender                      object\n",
       "age                        float64\n",
       "signup_method               object\n",
       "signup_flow                  int64\n",
       "language                    object\n",
       "affiliate_channel           object\n",
       "affiliate_provider          object\n",
       "first_affiliate_tracked     object\n",
       "signup_app                  object\n",
       "first_device_type           object\n",
       "first_browser               object\n",
       "country_destination         object\n",
       "dtype: object"
      ]
     },
     "execution_count": 7,
     "metadata": {},
     "output_type": "execute_result"
    }
   ],
   "source": [
    "df1.dtypes"
   ]
  },
  {
   "cell_type": "markdown",
   "id": "9d84dbdd",
   "metadata": {
    "ExecuteTime": {
     "end_time": "2022-10-11T22:04:24.145641Z",
     "start_time": "2022-10-11T22:04:24.138600Z"
    },
    "heading_collapsed": true,
    "hidden": true
   },
   "source": [
    "## 1.2. Checando Valores Ausentes"
   ]
  },
  {
   "cell_type": "code",
   "execution_count": 8,
   "id": "1005d45f",
   "metadata": {
    "ExecuteTime": {
     "end_time": "2022-10-14T11:07:57.047245Z",
     "start_time": "2022-10-14T11:07:56.499541Z"
    },
    "hidden": true
   },
   "outputs": [
    {
     "data": {
      "text/plain": [
       "id                              0\n",
       "date_account_created            0\n",
       "timestamp_first_active          0\n",
       "date_first_booking         124543\n",
       "gender                          0\n",
       "age                         87990\n",
       "signup_method                   0\n",
       "signup_flow                     0\n",
       "language                        0\n",
       "affiliate_channel               0\n",
       "affiliate_provider              0\n",
       "first_affiliate_tracked      6065\n",
       "signup_app                      0\n",
       "first_device_type               0\n",
       "first_browser                   0\n",
       "country_destination             0\n",
       "dtype: int64"
      ]
     },
     "execution_count": 8,
     "metadata": {},
     "output_type": "execute_result"
    }
   ],
   "source": [
    "df1.isna().sum()"
   ]
  },
  {
   "cell_type": "code",
   "execution_count": 9,
   "id": "50b43242",
   "metadata": {
    "ExecuteTime": {
     "end_time": "2022-10-14T11:07:57.378682Z",
     "start_time": "2022-10-14T11:07:57.051187Z"
    },
    "hidden": true
   },
   "outputs": [
    {
     "data": {
      "text/plain": [
       "(68171, 16)"
      ]
     },
     "execution_count": 9,
     "metadata": {},
     "output_type": "execute_result"
    }
   ],
   "source": [
    "# Removendo so dados ausentes completamente\n",
    "df1 = df1.dropna()\n",
    "df1.shape"
   ]
  },
  {
   "cell_type": "markdown",
   "id": "5163203a",
   "metadata": {
    "ExecuteTime": {
     "end_time": "2022-10-11T22:04:24.145641Z",
     "start_time": "2022-10-11T22:04:24.138600Z"
    },
    "heading_collapsed": true,
    "hidden": true
   },
   "source": [
    "## 1.3. Mudando Tipo de Dados"
   ]
  },
  {
   "cell_type": "code",
   "execution_count": 10,
   "id": "feedd7cf",
   "metadata": {
    "ExecuteTime": {
     "end_time": "2022-10-14T11:07:57.650006Z",
     "start_time": "2022-10-14T11:07:57.380718Z"
    },
    "hidden": true
   },
   "outputs": [],
   "source": [
    "# date_account_created  \n",
    "df1['date_account_created'] = pd.to_datetime( df1['date_account_created'] )\n",
    "\n",
    "# timestamp_first_active\n",
    "df1['timestamp_first_active'] = pd.to_datetime( df1['timestamp_first_active'], format='%Y%m%d%H%M%S')\n",
    "\n",
    "# date_first_booking\n",
    "df1['date_first_booking'] = pd.to_datetime( df1['date_first_booking'] )\n",
    "\n",
    "# age\n",
    "df1['age'] = df1['age'].astype( 'int64' )"
   ]
  },
  {
   "cell_type": "markdown",
   "id": "e34ed432",
   "metadata": {
    "ExecuteTime": {
     "end_time": "2022-10-11T22:04:24.145641Z",
     "start_time": "2022-10-11T22:04:24.138600Z"
    },
    "heading_collapsed": true,
    "hidden": true
   },
   "source": [
    "## 1.4. Checando dados desbalanceados"
   ]
  },
  {
   "cell_type": "code",
   "execution_count": 11,
   "id": "f1d536fe",
   "metadata": {
    "ExecuteTime": {
     "end_time": "2022-10-14T11:07:57.680915Z",
     "start_time": "2022-10-14T11:07:57.651950Z"
    },
    "hidden": true
   },
   "outputs": [
    {
     "data": {
      "text/plain": [
       "US      0.71\n",
       "other   0.11\n",
       "FR      0.05\n",
       "IT      0.03\n",
       "GB      0.03\n",
       "ES      0.02\n",
       "CA      0.02\n",
       "DE      0.01\n",
       "NL      0.01\n",
       "AU      0.01\n",
       "PT      0.00\n",
       "Name: country_destination, dtype: float64"
      ]
     },
     "execution_count": 11,
     "metadata": {},
     "output_type": "execute_result"
    }
   ],
   "source": [
    "df1.country_destination.value_counts( normalize=True)"
   ]
  },
  {
   "cell_type": "markdown",
   "id": "5c91285b",
   "metadata": {
    "heading_collapsed": true
   },
   "source": [
    "# 2.0. Filtragem dos Dados"
   ]
  },
  {
   "cell_type": "code",
   "execution_count": 12,
   "id": "4488a5d3",
   "metadata": {
    "ExecuteTime": {
     "end_time": "2022-10-14T11:07:57.696867Z",
     "start_time": "2022-10-14T11:07:57.682903Z"
    },
    "hidden": true
   },
   "outputs": [],
   "source": [
    "df2 = df1.copy()"
   ]
  },
  {
   "cell_type": "markdown",
   "id": "c1e422cf",
   "metadata": {
    "ExecuteTime": {
     "end_time": "2022-10-11T22:21:41.296128Z",
     "start_time": "2022-10-11T22:21:41.273188Z"
    },
    "heading_collapsed": true,
    "hidden": true
   },
   "source": [
    "## 2.1. Filtrando Linhas"
   ]
  },
  {
   "cell_type": "markdown",
   "id": "5f4fa95e",
   "metadata": {
    "ExecuteTime": {
     "end_time": "2022-10-11T22:03:57.265045Z",
     "start_time": "2022-10-11T22:03:57.247060Z"
    },
    "heading_collapsed": true,
    "hidden": true
   },
   "source": [
    "## 2.2. Selecionando colunas"
   ]
  },
  {
   "cell_type": "markdown",
   "id": "59842709",
   "metadata": {
    "heading_collapsed": true
   },
   "source": [
    "# 3.0. Preparação dos dados"
   ]
  },
  {
   "cell_type": "code",
   "execution_count": 13,
   "id": "c7dfb7a7",
   "metadata": {
    "ExecuteTime": {
     "end_time": "2022-10-14T11:07:57.711792Z",
     "start_time": "2022-10-14T11:07:57.698825Z"
    },
    "hidden": true
   },
   "outputs": [],
   "source": [
    "df3 = df2.copy()"
   ]
  },
  {
   "cell_type": "code",
   "execution_count": 14,
   "id": "1ee5b206",
   "metadata": {
    "ExecuteTime": {
     "end_time": "2022-10-14T11:07:57.838797Z",
     "start_time": "2022-10-14T11:07:57.714785Z"
    },
    "hidden": true
   },
   "outputs": [],
   "source": [
    "# Variáveis Dummy\n",
    "df3_dummy = pd.get_dummies( df3.drop(['id', 'country_destination'], axis=1) )\n",
    "\n",
    "# Join Id e country_destination\n",
    "df3 = pd.concat( [df3[['id', 'country_destination']], df3_dummy], axis=1)"
   ]
  },
  {
   "cell_type": "markdown",
   "id": "52e5032d",
   "metadata": {
    "heading_collapsed": true
   },
   "source": [
    "# 4.0. Feature Selection"
   ]
  },
  {
   "cell_type": "code",
   "execution_count": 15,
   "id": "3418b860",
   "metadata": {
    "ExecuteTime": {
     "end_time": "2022-10-14T11:07:57.869845Z",
     "start_time": "2022-10-14T11:07:57.840384Z"
    },
    "hidden": true
   },
   "outputs": [],
   "source": [
    "# Datas originais\n",
    "cols_drop = ['date_account_created', 'timestamp_first_active', 'date_first_booking']\n",
    "\n",
    "df4  = df3.drop( cols_drop, axis=1)"
   ]
  },
  {
   "cell_type": "markdown",
   "id": "3e68fb42",
   "metadata": {},
   "source": [
    "# 5.0. Modelo de Machine Learning "
   ]
  },
  {
   "cell_type": "markdown",
   "id": "40c62f9f",
   "metadata": {},
   "source": [
    "## Neural Network - Multi-Layer Perceptron"
   ]
  },
  {
   "cell_type": "code",
   "execution_count": 16,
   "id": "fb357e72",
   "metadata": {
    "ExecuteTime": {
     "end_time": "2022-10-14T11:07:57.900745Z",
     "start_time": "2022-10-14T11:07:57.872415Z"
    }
   },
   "outputs": [],
   "source": [
    "X = df4.drop( ['id', 'country_destination'], axis=1)\n",
    "y = df4['country_destination'].copy()"
   ]
  },
  {
   "cell_type": "code",
   "execution_count": 17,
   "id": "9396e13f",
   "metadata": {
    "ExecuteTime": {
     "end_time": "2022-10-14T11:07:57.964579Z",
     "start_time": "2022-10-14T11:07:57.902698Z"
    }
   },
   "outputs": [],
   "source": [
    "# Divisão do dataset entre treino e teste\n",
    "X_train, X_test, y_train, y_test = train_test_split( X, y, test_size=0.2, random_state=32)"
   ]
  },
  {
   "cell_type": "code",
   "execution_count": 18,
   "id": "2f4d7268",
   "metadata": {
    "ExecuteTime": {
     "end_time": "2022-10-14T11:07:57.995733Z",
     "start_time": "2022-10-14T11:07:57.966526Z"
    }
   },
   "outputs": [],
   "source": [
    "ohe = preprocessing.OneHotEncoder()\n",
    "y_train_nn = ohe.fit_transform( y_train.values.reshape(-1,1) ).toarray()"
   ]
  },
  {
   "cell_type": "code",
   "execution_count": 19,
   "id": "2d048abe",
   "metadata": {
    "ExecuteTime": {
     "end_time": "2022-10-14T11:14:14.232139Z",
     "start_time": "2022-10-14T11:07:57.997728Z"
    }
   },
   "outputs": [
    {
     "name": "stdout",
     "output_type": "stream",
     "text": [
      "Epoch 1/100\n",
      "1705/1705 [==============================] - 4s 2ms/step - loss: 1.3322 - accuracy: 0.7029\n",
      "Epoch 2/100\n",
      "1705/1705 [==============================] - 4s 2ms/step - loss: 1.2643 - accuracy: 0.7074\n",
      "Epoch 3/100\n",
      "1705/1705 [==============================] - 3s 2ms/step - loss: 1.2287 - accuracy: 0.7082\n",
      "Epoch 4/100\n",
      "1705/1705 [==============================] - 3s 2ms/step - loss: 1.1997 - accuracy: 0.7085\n",
      "Epoch 5/100\n",
      "1705/1705 [==============================] - 3s 2ms/step - loss: 1.1867 - accuracy: 0.7086\n",
      "Epoch 6/100\n",
      "1705/1705 [==============================] - 4s 2ms/step - loss: 1.1751 - accuracy: 0.7086\n",
      "Epoch 7/100\n",
      "1705/1705 [==============================] - 3s 2ms/step - loss: 1.1625 - accuracy: 0.7085\n",
      "Epoch 8/100\n",
      "1705/1705 [==============================] - 3s 2ms/step - loss: 1.1492 - accuracy: 0.7089\n",
      "Epoch 9/100\n",
      "1705/1705 [==============================] - 3s 2ms/step - loss: 1.1454 - accuracy: 0.7088\n",
      "Epoch 10/100\n",
      "1705/1705 [==============================] - 4s 2ms/step - loss: 1.1390 - accuracy: 0.7090\n",
      "Epoch 11/100\n",
      "1705/1705 [==============================] - 4s 2ms/step - loss: 1.1383 - accuracy: 0.7089\n",
      "Epoch 12/100\n",
      "1705/1705 [==============================] - 4s 2ms/step - loss: 1.1333 - accuracy: 0.7094\n",
      "Epoch 13/100\n",
      "1705/1705 [==============================] - 3s 2ms/step - loss: 1.1316 - accuracy: 0.7096\n",
      "Epoch 14/100\n",
      "1705/1705 [==============================] - 4s 2ms/step - loss: 1.1307 - accuracy: 0.7094\n",
      "Epoch 15/100\n",
      "1705/1705 [==============================] - 4s 2ms/step - loss: 1.1294 - accuracy: 0.7096\n",
      "Epoch 16/100\n",
      "1705/1705 [==============================] - 3s 2ms/step - loss: 1.1285 - accuracy: 0.7096\n",
      "Epoch 17/100\n",
      "1705/1705 [==============================] - 4s 2ms/step - loss: 1.1280 - accuracy: 0.7096\n",
      "Epoch 18/100\n",
      "1705/1705 [==============================] - 3s 2ms/step - loss: 1.1273 - accuracy: 0.7096\n",
      "Epoch 19/100\n",
      "1705/1705 [==============================] - 3s 2ms/step - loss: 1.1263 - accuracy: 0.7096\n",
      "Epoch 20/100\n",
      "1705/1705 [==============================] - 4s 2ms/step - loss: 1.1257 - accuracy: 0.7096\n",
      "Epoch 21/100\n",
      "1705/1705 [==============================] - 3s 2ms/step - loss: 1.1244 - accuracy: 0.7096\n",
      "Epoch 22/100\n",
      "1705/1705 [==============================] - 3s 2ms/step - loss: 1.1242 - accuracy: 0.7096\n",
      "Epoch 23/100\n",
      "1705/1705 [==============================] - 4s 2ms/step - loss: 1.1232 - accuracy: 0.7097\n",
      "Epoch 24/100\n",
      "1705/1705 [==============================] - 4s 2ms/step - loss: 1.1227 - accuracy: 0.7097\n",
      "Epoch 25/100\n",
      "1705/1705 [==============================] - 3s 2ms/step - loss: 1.1224 - accuracy: 0.7098\n",
      "Epoch 26/100\n",
      "1705/1705 [==============================] - 3s 2ms/step - loss: 1.1209 - accuracy: 0.7099\n",
      "Epoch 27/100\n",
      "1705/1705 [==============================] - 4s 2ms/step - loss: 1.1208 - accuracy: 0.7098\n",
      "Epoch 28/100\n",
      "1705/1705 [==============================] - 4s 2ms/step - loss: 1.1200 - accuracy: 0.7098\n",
      "Epoch 29/100\n",
      "1705/1705 [==============================] - 3s 2ms/step - loss: 1.1193 - accuracy: 0.7098\n",
      "Epoch 30/100\n",
      "1705/1705 [==============================] - 3s 2ms/step - loss: 1.1185 - accuracy: 0.7099\n",
      "Epoch 31/100\n",
      "1705/1705 [==============================] - 4s 2ms/step - loss: 1.1178 - accuracy: 0.7099\n",
      "Epoch 32/100\n",
      "1705/1705 [==============================] - 4s 2ms/step - loss: 1.1167 - accuracy: 0.7100\n",
      "Epoch 33/100\n",
      "1705/1705 [==============================] - 3s 2ms/step - loss: 1.1171 - accuracy: 0.7099\n",
      "Epoch 34/100\n",
      "1705/1705 [==============================] - 3s 2ms/step - loss: 1.1160 - accuracy: 0.7100\n",
      "Epoch 35/100\n",
      "1705/1705 [==============================] - 4s 2ms/step - loss: 1.1153 - accuracy: 0.7100\n",
      "Epoch 36/100\n",
      "1705/1705 [==============================] - 4s 2ms/step - loss: 1.1149 - accuracy: 0.7101\n",
      "Epoch 37/100\n",
      "1705/1705 [==============================] - 3s 2ms/step - loss: 1.1141 - accuracy: 0.7101\n",
      "Epoch 38/100\n",
      "1705/1705 [==============================] - 3s 2ms/step - loss: 1.1134 - accuracy: 0.7102\n",
      "Epoch 39/100\n",
      "1705/1705 [==============================] - 4s 2ms/step - loss: 1.1138 - accuracy: 0.7102\n",
      "Epoch 40/100\n",
      "1705/1705 [==============================] - 3s 2ms/step - loss: 1.1130 - accuracy: 0.7104\n",
      "Epoch 41/100\n",
      "1705/1705 [==============================] - 3s 2ms/step - loss: 1.1122 - accuracy: 0.7101\n",
      "Epoch 42/100\n",
      "1705/1705 [==============================] - 3s 2ms/step - loss: 1.1113 - accuracy: 0.7104\n",
      "Epoch 43/100\n",
      "1705/1705 [==============================] - 4s 2ms/step - loss: 1.1108 - accuracy: 0.7104\n",
      "Epoch 44/100\n",
      "1705/1705 [==============================] - 3s 2ms/step - loss: 1.1108 - accuracy: 0.7105\n",
      "Epoch 45/100\n",
      "1705/1705 [==============================] - 3s 2ms/step - loss: 1.1100 - accuracy: 0.7106\n",
      "Epoch 46/100\n",
      "1705/1705 [==============================] - 3s 2ms/step - loss: 1.1093 - accuracy: 0.7107\n",
      "Epoch 47/100\n",
      "1705/1705 [==============================] - 4s 2ms/step - loss: 1.1098 - accuracy: 0.7105\n",
      "Epoch 48/100\n",
      "1705/1705 [==============================] - 3s 2ms/step - loss: 1.1088 - accuracy: 0.7104\n",
      "Epoch 49/100\n",
      "1705/1705 [==============================] - 3s 2ms/step - loss: 1.1080 - accuracy: 0.7107\n",
      "Epoch 50/100\n",
      "1705/1705 [==============================] - 3s 2ms/step - loss: 1.1076 - accuracy: 0.7107\n",
      "Epoch 51/100\n",
      "1705/1705 [==============================] - 4s 2ms/step - loss: 1.1082 - accuracy: 0.7108\n",
      "Epoch 52/100\n",
      "1705/1705 [==============================] - 3s 2ms/step - loss: 1.1069 - accuracy: 0.7111\n",
      "Epoch 53/100\n",
      "1705/1705 [==============================] - 3s 2ms/step - loss: 1.1069 - accuracy: 0.7107\n",
      "Epoch 54/100\n",
      "1705/1705 [==============================] - 3s 2ms/step - loss: 1.1062 - accuracy: 0.7109\n",
      "Epoch 55/100\n",
      "1705/1705 [==============================] - 4s 2ms/step - loss: 1.1056 - accuracy: 0.7110\n",
      "Epoch 56/100\n",
      "1705/1705 [==============================] - 3s 2ms/step - loss: 1.1058 - accuracy: 0.7111\n",
      "Epoch 57/100\n",
      "1705/1705 [==============================] - 3s 2ms/step - loss: 1.1055 - accuracy: 0.7111\n",
      "Epoch 58/100\n",
      "1705/1705 [==============================] - 3s 2ms/step - loss: 1.1053 - accuracy: 0.7111\n",
      "Epoch 59/100\n",
      "1705/1705 [==============================] - 4s 2ms/step - loss: 1.1046 - accuracy: 0.7113\n",
      "Epoch 60/100\n",
      "1705/1705 [==============================] - 3s 2ms/step - loss: 1.1037 - accuracy: 0.7112\n",
      "Epoch 61/100\n",
      "1705/1705 [==============================] - 3s 2ms/step - loss: 1.1044 - accuracy: 0.7111\n",
      "Epoch 62/100\n",
      "1705/1705 [==============================] - 4s 2ms/step - loss: 1.1038 - accuracy: 0.7112\n",
      "Epoch 63/100\n",
      "1705/1705 [==============================] - 4s 2ms/step - loss: 1.1033 - accuracy: 0.7113\n",
      "Epoch 64/100\n",
      "1705/1705 [==============================] - 5s 3ms/step - loss: 1.1036 - accuracy: 0.7114\n",
      "Epoch 65/100\n",
      "1705/1705 [==============================] - 6s 3ms/step - loss: 1.1028 - accuracy: 0.7115\n",
      "Epoch 66/100\n",
      "1705/1705 [==============================] - 6s 3ms/step - loss: 1.1023 - accuracy: 0.7116\n",
      "Epoch 67/100\n",
      "1705/1705 [==============================] - 6s 3ms/step - loss: 1.1024 - accuracy: 0.7117\n",
      "Epoch 68/100\n",
      "1705/1705 [==============================] - 6s 3ms/step - loss: 1.1030 - accuracy: 0.7115\n",
      "Epoch 69/100\n",
      "1705/1705 [==============================] - 6s 4ms/step - loss: 1.1015 - accuracy: 0.7118\n",
      "Epoch 70/100\n",
      "1705/1705 [==============================] - 6s 3ms/step - loss: 1.1009 - accuracy: 0.7116\n",
      "Epoch 71/100\n",
      "1705/1705 [==============================] - 6s 3ms/step - loss: 1.1028 - accuracy: 0.7116\n",
      "Epoch 72/100\n",
      "1705/1705 [==============================] - 6s 3ms/step - loss: 1.1010 - accuracy: 0.7117\n",
      "Epoch 73/100\n",
      "1705/1705 [==============================] - 5s 3ms/step - loss: 1.1005 - accuracy: 0.7118\n",
      "Epoch 74/100\n",
      "1705/1705 [==============================] - 5s 3ms/step - loss: 1.1003 - accuracy: 0.7121\n",
      "Epoch 75/100\n",
      "1705/1705 [==============================] - 4s 2ms/step - loss: 1.1006 - accuracy: 0.7118\n",
      "Epoch 76/100\n",
      "1705/1705 [==============================] - 5s 3ms/step - loss: 1.0994 - accuracy: 0.7119\n",
      "Epoch 77/100\n",
      "1705/1705 [==============================] - 4s 2ms/step - loss: 1.0999 - accuracy: 0.7120\n",
      "Epoch 78/100\n",
      "1705/1705 [==============================] - 4s 3ms/step - loss: 1.0996 - accuracy: 0.7119\n",
      "Epoch 79/100\n"
     ]
    },
    {
     "name": "stdout",
     "output_type": "stream",
     "text": [
      "1705/1705 [==============================] - 4s 2ms/step - loss: 1.0991 - accuracy: 0.7120\n",
      "Epoch 80/100\n",
      "1705/1705 [==============================] - 3s 2ms/step - loss: 1.0991 - accuracy: 0.7118\n",
      "Epoch 81/100\n",
      "1705/1705 [==============================] - 3s 2ms/step - loss: 1.0995 - accuracy: 0.7119\n",
      "Epoch 82/100\n",
      "1705/1705 [==============================] - 4s 2ms/step - loss: 1.1004 - accuracy: 0.7118\n",
      "Epoch 83/100\n",
      "1705/1705 [==============================] - 4s 2ms/step - loss: 1.0980 - accuracy: 0.7120\n",
      "Epoch 84/100\n",
      "1705/1705 [==============================] - 4s 2ms/step - loss: 1.0979 - accuracy: 0.7119\n",
      "Epoch 85/100\n",
      "1705/1705 [==============================] - 3s 2ms/step - loss: 1.0986 - accuracy: 0.7120\n",
      "Epoch 86/100\n",
      "1705/1705 [==============================] - 4s 2ms/step - loss: 1.0979 - accuracy: 0.7123\n",
      "Epoch 87/100\n",
      "1705/1705 [==============================] - 4s 2ms/step - loss: 1.0977 - accuracy: 0.7121\n",
      "Epoch 88/100\n",
      "1705/1705 [==============================] - 4s 2ms/step - loss: 1.0985 - accuracy: 0.7121\n",
      "Epoch 89/100\n",
      "1705/1705 [==============================] - 4s 2ms/step - loss: 1.0970 - accuracy: 0.7121\n",
      "Epoch 90/100\n",
      "1705/1705 [==============================] - 4s 2ms/step - loss: 1.0972 - accuracy: 0.7124\n",
      "Epoch 91/100\n",
      "1705/1705 [==============================] - 4s 2ms/step - loss: 1.0975 - accuracy: 0.7122\n",
      "Epoch 92/100\n",
      "1705/1705 [==============================] - 4s 2ms/step - loss: 1.0977 - accuracy: 0.7122\n",
      "Epoch 93/100\n",
      "1705/1705 [==============================] - 4s 2ms/step - loss: 1.0965 - accuracy: 0.7121\n",
      "Epoch 94/100\n",
      "1705/1705 [==============================] - 4s 2ms/step - loss: 1.0968 - accuracy: 0.7122\n",
      "Epoch 95/100\n",
      "1705/1705 [==============================] - 4s 2ms/step - loss: 1.0960 - accuracy: 0.7123\n",
      "Epoch 96/100\n",
      "1705/1705 [==============================] - 4s 2ms/step - loss: 1.0954 - accuracy: 0.7126\n",
      "Epoch 97/100\n",
      "1705/1705 [==============================] - 4s 2ms/step - loss: 1.0962 - accuracy: 0.7123\n",
      "Epoch 98/100\n",
      "1705/1705 [==============================] - 4s 2ms/step - loss: 1.0958 - accuracy: 0.7123\n",
      "Epoch 99/100\n",
      "1705/1705 [==============================] - 4s 2ms/step - loss: 1.0958 - accuracy: 0.7126\n",
      "Epoch 100/100\n",
      "1705/1705 [==============================] - 4s 3ms/step - loss: 1.0958 - accuracy: 0.7124\n"
     ]
    },
    {
     "data": {
      "text/plain": [
       "<keras.callbacks.History at 0x22611107490>"
      ]
     },
     "execution_count": 19,
     "metadata": {},
     "output_type": "execute_result"
    }
   ],
   "source": [
    "# definição do modelo\n",
    "model = ml.Sequential()\n",
    "model.add( layers.Dense( 128, input_dim = X_train.shape[1], activation='relu' ) )\n",
    "model.add( layers.Dense( 11, activation='softmax' ) )\n",
    "\n",
    "# compilando o modelo\n",
    "model.compile( loss='categorical_crossentropy', optimizer='adam', metrics=['accuracy'])\n",
    "\n",
    "# treinando o modelo\n",
    "model.fit( X_train, y_train_nn, epochs=100)"
   ]
  },
  {
   "cell_type": "markdown",
   "id": "375affcf",
   "metadata": {},
   "source": [
    "## 5.1. Performace da NN"
   ]
  },
  {
   "cell_type": "code",
   "execution_count": 20,
   "id": "165b3254",
   "metadata": {
    "ExecuteTime": {
     "end_time": "2022-10-14T11:14:15.331566Z",
     "start_time": "2022-10-14T11:14:14.237085Z"
    }
   },
   "outputs": [
    {
     "name": "stdout",
     "output_type": "stream",
     "text": [
      "427/427 [==============================] - 1s 1ms/step\n"
     ]
    }
   ],
   "source": [
    "# predicao\n",
    "pred_nn =  model.predict( X_test )\n",
    "\n",
    "# inverter o One Hot Encoding\n",
    "yhat_nn = ohe.inverse_transform( pred_nn )\n",
    "\n",
    "# preparação para métricas\n",
    "y_test_nn = y_test.to_numpy()\n",
    "y_hat_nn=yhat_nn.reshape(1, -1) [0] "
   ]
  },
  {
   "cell_type": "code",
   "execution_count": 30,
   "id": "0bf7fe2b",
   "metadata": {
    "ExecuteTime": {
     "end_time": "2022-10-14T11:21:53.925905Z",
     "start_time": "2022-10-14T11:21:52.220466Z"
    }
   },
   "outputs": [
    {
     "name": "stdout",
     "output_type": "stream",
     "text": [
      "Acurácia: 0.7041437477081042\n",
      "Acurácia Balanceada: 0.09156424487315175\n",
      "Kappa Score: 0.0019935963379111854\n",
      "              precision    recall  f1-score   support\n",
      "\n",
      "          AU       0.00      0.00      0.00       101\n",
      "          CA       0.00      0.00      0.00       214\n",
      "          DE       0.20      0.01      0.01       170\n",
      "          ES       0.00      0.00      0.00       345\n",
      "          FR       0.00      0.00      0.00       710\n",
      "          GB       0.00      0.00      0.00       344\n",
      "          IT       0.00      0.00      0.00       423\n",
      "          NL       0.00      0.00      0.00       128\n",
      "          PT       0.00      0.00      0.00        36\n",
      "          US       0.71      1.00      0.83      9624\n",
      "       other       0.27      0.00      0.01      1540\n",
      "\n",
      "    accuracy                           0.70     13635\n",
      "   macro avg       0.11      0.09      0.08     13635\n",
      "weighted avg       0.53      0.70      0.58     13635\n",
      "\n"
     ]
    },
    {
     "data": {
      "image/png": "[encoded data removed]",
      "text/plain": [
       "<Figure size 1200x600 with 2 Axes>"
      ]
     },
     "metadata": {},
     "output_type": "display_data"
    }
   ],
   "source": [
    "# Acurácia\n",
    "acc_nn = metrics.accuracy_score(y_test_nn, y_hat_nn)\n",
    "print(f\"Acurácia: {acc_nn}\")\n",
    "\n",
    "# Balanced Acuracy\n",
    "balanced_acc_nn = metrics.balanced_accuracy_score(y_test_nn, y_hat_nn)\n",
    "print(f\"Acurácia Balanceada: {balanced_acc_nn}\")\n",
    "\n",
    "# Kappa Metrics\n",
    "kappa_nn = metrics.cohen_kappa_score(y_test_nn, y_hat_nn)\n",
    "print(f\"Kappa Score: {kappa_nn}\")\n",
    "\n",
    "# Classification Report\n",
    "print( metrics.classification_report( y_test_nn, y_hat_nn) )\n",
    "\n",
    "# Matriz de Confusão\n",
    "mt.plot_confusion_matrix( y_test_nn, y_hat_nn, normalize=False);"
   ]
  },
  {
   "cell_type": "code",
   "execution_count": 23,
   "id": "82f7c819",
   "metadata": {
    "ExecuteTime": {
     "end_time": "2022-10-14T11:15:57.375204Z",
     "start_time": "2022-10-14T11:15:56.660116Z"
    }
   },
   "outputs": [
    {
     "data": {
      "image/png": "[encoded data removed]",
      "text/plain": [
       "<Figure size 1200x600 with 2 Axes>"
      ]
     },
     "metadata": {},
     "output_type": "display_data"
    }
   ],
   "source": []
  },
  {
   "cell_type": "markdown",
   "id": "d00d313d",
   "metadata": {},
   "source": [
    "# PAREI Faltando 47:33"
   ]
  },
  {
   "cell_type": "code",
   "execution_count": null,
   "id": "b4ad4a79",
   "metadata": {},
   "outputs": [],
   "source": []
  }
 ],
 "metadata": {
  "hide_input": false,
  "kernelspec": {
   "display_name": "Python 3 (ipykernel)",
   "language": "python",
   "name": "python3"
  },
  "language_info": {
   "codemirror_mode": {
    "name": "ipython",
    "version": 3
   },
   "file_extension": ".py",
   "mimetype": "text/x-python",
   "name": "python",
   "nbconvert_exporter": "python",
   "pygments_lexer": "ipython3",
   "version": "3.8.13"
  },
  "toc": {
   "base_numbering": 1,
   "nav_menu": {},
   "number_sections": false,
   "sideBar": true,
   "skip_h1_title": false,
   "title_cell": "Table of Contents",
   "title_sidebar": "Contents",
   "toc_cell": false,
   "toc_position": {
    "height": "calc(100% - 180px)",
    "left": "10px",
    "top": "150px",
    "width": "236.447px"
   },
   "toc_section_display": true,
   "toc_window_display": false
  }
 },
 "nbformat": 4,
 "nbformat_minor": 5
}
